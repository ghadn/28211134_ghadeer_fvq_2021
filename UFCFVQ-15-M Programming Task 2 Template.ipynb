{
 "cells": [
  {
   "cell_type": "markdown",
   "metadata": {},
   "source": [
    "# UFCFVQ-15-M Programming for Data Science\n",
    "# Programming Task 2\n",
    "\n",
    "## Student Id: "
   ]
  },
  {
   "cell_type": "markdown",
   "metadata": {},
   "source": [
    "### Requirement FR2.1 - Read CSV data from a file (with a header row) into memory "
   ]
  },
  {
   "cell_type": "code",
   "execution_count": null,
   "metadata": {},
   "outputs": [],
   "source": [
    "import pandas as pd\n",
    "dataFrame2a = pd.read_csv ('task2a.csv')"
   ]
  },
  {
   "cell_type": "markdown",
   "metadata": {},
   "source": [
    "### Requirement FR2.2 - Read CSV data from a file (without a header row) into memory"
   ]
  },
  {
   "cell_type": "code",
   "execution_count": null,
   "metadata": {},
   "outputs": [],
   "source": [
    "import pandas as pd\n",
    "\n",
    "#read the 2nd file without header with column name 'id_student', 'click_events'\n",
    "dataFrame2b = pd.read_csv(\"task2b.csv\",names=['id_student', 'click_events'], header=None) "
   ]
  },
  {
   "cell_type": "markdown",
   "metadata": {},
   "source": [
    "### Requirement FR2.3 - Merge the data from two Dataframes"
   ]
  },
  {
   "cell_type": "code",
   "execution_count": null,
   "metadata": {},
   "outputs": [],
   "source": [
    "import pandas as pd\n",
    "\n",
    "dataFrame2a = pd.read_csv(\"task2a.csv\")\n",
    "#read the 2nd file without header\n",
    "dataFrame2b = pd.read_csv(\"task2b.csv\",names=['id_student', 'click_events'], header=None) \n",
    "#using the merge function to merge the 2 dataFrames\n",
    "dataFrameMerged = pd.merge(dataFrame2a, dataFrame2b, on=['id_student'] )"
   ]
  },
  {
   "cell_type": "markdown",
   "metadata": {},
   "source": [
    "### Requirement FR2.4 - Remove any rows that contain missing values"
   ]
  },
  {
   "cell_type": "code",
   "execution_count": null,
   "metadata": {},
   "outputs": [],
   "source": [
    "import pandas as pd\n",
    "\n",
    "dataFrame2a = pd.read_csv(\"task2a.csv\")\n",
    "#read the 2nd file without header\n",
    "dataFrame2b = pd.read_csv(\"task2b.csv\", delimiter=\"\\t\", header=None, index_col=False) \n",
    "#using the merge function to merge the 2 dataFrames\n",
    "dataFrameMerged = pd.merge(dataFrame2a, dataFrame2b, left_index=True, right_index=True)\n",
    "#  Remove any rows that contain missing values using dropna()function  \n",
    "dataFrameMerged.dropna()"
   ]
  },
  {
   "cell_type": "markdown",
   "metadata": {},
   "source": [
    "### Requirement FR2.5 - Filter out unnecessary rows"
   ]
  },
  {
   "cell_type": "code",
   "execution_count": null,
   "metadata": {},
   "outputs": [],
   "source": [
    "import pandas as pd\n",
    "\n",
    "dataFrame2a = pd.read_csv(\"task2a.csv\")\n",
    "#read the 2nd file without header\n",
    "dataFrame2b = pd.read_csv(\"task2b.csv\", delimiter=\"\\t\", header=None, index_col=False) \n",
    "#using the merge function to merge the 2 dataFrames\n",
    "dataFrameMerged = pd.merge(dataFrame2a, dataFrame2b, on=['id_student'] )\n",
    "#  Remove any rows that contain missing values using dropna() function  \n",
    "dataFrameMerged.dropna()\n",
    "#Remove all rows from the DataFrame where click_event is smaller than 10  \n",
    "dataFrameMerged = dataFrameMerged[dataFrameMerged.click_events >= 10]"
   ]
  },
  {
   "cell_type": "markdown",
   "metadata": {},
   "source": [
    "### Requirement FR2.6 - Rename the score column"
   ]
  },
  {
   "cell_type": "code",
   "execution_count": null,
   "metadata": {},
   "outputs": [],
   "source": [
    "import pandas as pd\n",
    "\n",
    "dataFrame2a = pd.read_csv(\"task2a.csv\")\n",
    "#read the 2nd file without header\n",
    "dataFrame2b = pd.read_csv(\"task2b.csv\",names=['id_student', 'click_events'], header=None) \n",
    "#using the merge function to merge the 2 dataFrames\n",
    "dataFrameMerged = pd.merge(dataFrame2a, dataFrame2b, on=['id_student'] )\n",
    "#  Remove any rows that contain missing values using dropna() function  \n",
    "dataFrameMerged.dropna()\n",
    "#Remove all rows from the DataFrame where click_event is smaller than 10  \n",
    "dataFrameMerged = dataFrameMerged[dataFrameMerged.click_events >= 10]\n",
    "#Rename the score column to final_mark\n",
    "dataFrameMerged = dataFrameMerged.rename(columns={'score': 'final_mark'})\n"
   ]
  },
  {
   "cell_type": "markdown",
   "metadata": {},
   "source": [
    "### Requirement FR2.7 - Remove unnecessary column(s)"
   ]
  },
  {
   "cell_type": "code",
   "execution_count": null,
   "metadata": {},
   "outputs": [],
   "source": [
    "import pandas as pd\n",
    "\n",
    "dataFrame2a = pd.read_csv(\"task2a.csv\")\n",
    "#read the 2nd file without header\n",
    "dataFrame2b = pd.read_csv(\"task2b.csv\",names=['id_student', 'click_events'], header=None) \n",
    "#using the merge function to merge the 2 dataFrames\n",
    "dataFrameMerged = pd.merge(dataFrame2a, dataFrame2b, on=['id_student'] )\n",
    "#  Remove any rows that contain missing values using dropna() function  \n",
    "dataFrameMerged.dropna()\n",
    "#Remove all rows from the DataFrame where click_event is smaller than 10  \n",
    "dataFrameMerged = dataFrameMerged[dataFrameMerged.click_events >= 10]\n",
    "#Rename the score column to final_mark\n",
    "dataFrameMerged = dataFrameMerged.rename(columns={'score': 'final_mark'})\n",
    "#Remove unnecessary column(s) region, final_result and highest_education\n",
    "dataFrameMerged = dataFrameMerged.drop(['region', 'final_result' ,'highest_education'], axis=1)"
   ]
  },
  {
   "cell_type": "markdown",
   "metadata": {},
   "source": [
    "### Requirement FR2.8 - Write the DataFrame data to a CSV file"
   ]
  },
  {
   "cell_type": "code",
   "execution_count": null,
   "metadata": {},
   "outputs": [],
   "source": [
    "import pandas as pd\n",
    "\n",
    "dataFrame2a = pd.read_csv(\"task2a.csv\")\n",
    "#read the 2nd file without header\n",
    "dataFrame2b = pd.read_csv(\"task2b.csv\",names=['id_student', 'click_events'], header=None) \n",
    "#using the merge function to merge the 2 dataFrames\n",
    "dataFrameMerged = pd.merge(dataFrame2a, dataFrame2b, on=['id_student'] )\n",
    "#  Remove any rows that contain missing values using dropna() function  \n",
    "dataFrameMerged.dropna()\n",
    "#Remove all rows from the DataFrame where click_event is smaller than 10  \n",
    "dataFrameMerged = dataFrameMerged[dataFrameMerged.click_events >= 10]\n",
    "#Rename the score column to final_mark\n",
    "dataFrameMerged = dataFrameMerged.rename(columns={'score': 'final_mark'})\n",
    "#Remove unnecessary column(s) region, final_result and highest_education\n",
    "dataFrameMerged = dataFrameMerged.drop(['region', 'final_result' ,'highest_education'], axis=1)\n",
    "#Write the DataFrame data to a CSV file\n",
    "# the file name is update.csv\n",
    "dataFrameMerged.to_csv(\"update.csv\", sep='\\t')"
   ]
  },
  {
   "cell_type": "markdown",
   "metadata": {},
   "source": [
    "### Requirement FR2.9 - Investigate the effects of age-group on attainment and engagement"
   ]
  },
  {
   "cell_type": "code",
   "execution_count": null,
   "metadata": {},
   "outputs": [],
   "source": [
    "import pandas as pd\n",
    "import numpy as np\n",
    "\n",
    "#using mean from numpy to calculate the mean of final score\n",
    "df = pd.read_csv(\"update.csv\",delimiter=\"\\t\",index_col=False) \n",
    "df = df.groupby('age_band') \\\n",
    "       .agg({'final_mark':'mean'}) \\\n",
    "       .reset_index()"
   ]
  },
  {
   "cell_type": "markdown",
   "metadata": {},
   "source": [
    "### Requirement FR2.10 - Present the results of the age-group investigation using an appropriate visualisation"
   ]
  },
  {
   "cell_type": "code",
   "execution_count": null,
   "metadata": {},
   "outputs": [],
   "source": [
    "import pandas as pd\n",
    "import numpy as np\n",
    "import matplotlib.pyplot as plt\n",
    "from pandas.plotting import table\n",
    "\n",
    "df = pd.read_csv(\"update.csv\",delimiter=\"\\t\",index_col=False) \n",
    "df = df.groupby('age_band') \\\n",
    "       .agg({'final_mark':'mean'}) \\\n",
    "       .reset_index()\n",
    "\n",
    "\n",
    "plt.figure(figsize=(16,8))\n",
    "# plot chart\n",
    "ax1 = plt.subplot(121, aspect='equal')\n",
    "df.plot(kind='pie', y = 'final_mark', ax=ax1, autopct='%1.1f%%', \n",
    " startangle=90, shadow=False, labels=df['age_band'], legend = False, fontsize=14)\n",
    "\n",
    "# plot table\n",
    "ax2 = plt.subplot(122)\n",
    "plt.axis('off')\n",
    "tbl = table(ax2, df, loc='center')\n",
    "tbl.auto_set_font_size(False)\n",
    "tbl.set_fontsize(14)\n",
    "plt.show()\n",
    "\n"
   ]
  },
  {
   "cell_type": "markdown",
   "metadata": {},
   "source": [
    "### Requirement FR2.11 - Investigate the effects of engagement on attainment"
   ]
  },
  {
   "cell_type": "code",
   "execution_count": null,
   "metadata": {},
   "outputs": [],
   "source": [
    "# add code here"
   ]
  },
  {
   "cell_type": "markdown",
   "metadata": {},
   "source": [
    "### Requirement FR2.12 - Test the hypothesis that there is a significant effect on attainment"
   ]
  },
  {
   "cell_type": "code",
   "execution_count": null,
   "metadata": {},
   "outputs": [],
   "source": [
    "# add code here"
   ]
  },
  {
   "cell_type": "markdown",
   "metadata": {},
   "source": [
    "# Process Development Report for Task 2\n"
   ]
  }
 ],
 "metadata": {
  "kernelspec": {
   "display_name": "Python 3 (ipykernel)",
   "language": "python",
   "name": "python3"
  },
  "language_info": {
   "codemirror_mode": {
    "name": "ipython",
    "version": 3
   },
   "file_extension": ".py",
   "mimetype": "text/x-python",
   "name": "python",
   "nbconvert_exporter": "python",
   "pygments_lexer": "ipython3",
   "version": "3.9.9"
  }
 },
 "nbformat": 4,
 "nbformat_minor": 4
}
