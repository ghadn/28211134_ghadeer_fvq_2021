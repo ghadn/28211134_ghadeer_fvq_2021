{
 "cells": [
  {
   "cell_type": "markdown",
   "metadata": {},
   "source": [
    "# UFCFVQ-15-M Programming for Data Science\n",
    "# Programming Task 1\n",
    "\n",
    "## Student Id: "
   ]
  },
  {
   "cell_type": "markdown",
   "metadata": {},
   "source": [
    "### Requirement FR1.1 - Find the arithmetic mean"
   ]
  },
  {
   "cell_type": "code",
   "execution_count": 1,
   "metadata": {},
   "outputs": [],
   "source": [
    "def mean(data_list):\n",
    "    #length of the list\n",
    "    n = len(data_list)\n",
    "    # Mean of the data_list\n",
    "    mean = sum(data_list) / n\n",
    "    return mean\n",
    "#test\n",
    "my_file = open(\"task1.dat\", \"r\")   # open the file on mode read\n",
    "list_content = my_file.readlines()  #read the file to list\n",
    "list_content = [int(i) for i in list_content] #to convert the list of String to numbers\n",
    "res = mean(list_content) # calculate the mean\n",
    "print(\"The mean of task1.bat is:\" ) #print the result\n",
    "print(res ) #print the result\n",
    "\n",
    "\n"
   ]
  },
  {
   "cell_type": "markdown",
   "metadata": {},
   "source": [
    "### Requirement FR1.2 - Find the standard deviation"
   ]
  },
  {
   "cell_type": "code",
   "execution_count": null,
   "metadata": {},
   "outputs": [],
   "source": [
    "def standard_deviation(list_data):\n",
    "    # length of the list\n",
    "    n = len(list_data)\n",
    "    # Mean of the list\n",
    "    mean_val = mean(list_data)\n",
    "    # Calculate the variance\n",
    "    variance = sum([((x - mean_val) ** 2) for x in list_data]) / n\n",
    "    deviations = variance ** 0.5\n",
    "    return deviations\n",
    "#test\n",
    "my_file = open(\"task1.dat\", \"r\")   # open the file on mode read\n",
    "list_content = my_file.readlines()  #read the file to list\n",
    "list_content = [int(i) for i in list_content] #to convert the list of String to numbers\n",
    "res = standard_deviation(list_content) # calculate the standard_deviation\n",
    "print(\"The standard deviation of task1.bat is: \" ) #print the result\n",
    "print(res ) #print the result"
   ]
  },
  {
   "cell_type": "markdown",
   "metadata": {},
   "source": [
    "### Requirement FR1.3 - Find the min/max values "
   ]
  },
  {
   "cell_type": "code",
   "execution_count": null,
   "metadata": {},
   "outputs": [],
   "source": [
    "#max of data list\n",
    "max(data_list)\n",
    "\n",
    "#min of the data list\n",
    "min(data_list)\n",
    "\n",
    "#test\n",
    "\n",
    "my_file = open(\"task1.dat\", \"r\")   # open the file on mode read\n",
    "list_content = my_file.readlines()  #read the file to list\n",
    "list_content = [int(i) for i in list_content] #to convert the list of String to numbers\n",
    "res = min(list_content) # calculate the min\n",
    "print(\"The Min : \" ) #print the result\n",
    "print(res ) #print the result\n",
    "res = max(list_content) # calculate the max\n",
    "print(\"The Max : \" ) #print the result\n",
    "print(res ) #print the result"
   ]
  },
  {
   "cell_type": "markdown",
   "metadata": {},
   "source": [
    "### Requirement FR1.4 - Find the 25th percentile "
   ]
  },
  {
   "cell_type": "code",
   "execution_count": null,
   "metadata": {},
   "outputs": [],
   "source": [
    "import math\n",
    "\n",
    "def percentile_25(data_list):\n",
    "    size = len(data_list)\n",
    "    res = sorted(data_list)[int(math.ceil((size * 25) / 100)) - 1]\n",
    "    return res\n",
    "#test\n",
    "my_file = open(\"task1.dat\", \"r\")   # open the file on mode read\n",
    "list_content = my_file.readlines()  #read the file to list\n",
    "list_content = [int(i) for i in list_content] #to convert the list of String to numbers\n",
    "print(\"The percentile 25 : \" ) #print the result\n",
    "res = percentile_25(list_content) # calculate the percentile_25\n",
    "print(res ) #print the result"
   ]
  },
  {
   "cell_type": "markdown",
   "metadata": {},
   "source": [
    "### Requirement FR1.5 - Find the 50th percentile"
   ]
  },
  {
   "cell_type": "code",
   "execution_count": null,
   "metadata": {},
   "outputs": [],
   "source": [
    "import math\n",
    "\n",
    "def percentile_50(data_list):\n",
    "    size = len(data_list)\n",
    "    res = sorted(data_list)[int(math.ceil((size * 50) / 100)) - 1]\n",
    "    return res\n",
    "\n",
    "#test\n",
    "my_file = open(\"task1.dat\", \"r\")   # open the file on mode read\n",
    "list_content = my_file.readlines()  #read the file to list\n",
    "list_content = [int(i) for i in list_content] #to convert the list of String to numbers\n",
    "print(\"The percentile 50 : \" ) #print the result\n",
    "res = percentile_50(list_content) # calculate the percentile_50\n",
    "print(res ) #print the result"
   ]
  },
  {
   "cell_type": "markdown",
   "metadata": {},
   "source": [
    "### Requirement FR1.6 - Find the 75th percentile"
   ]
  },
  {
   "cell_type": "code",
   "execution_count": null,
   "metadata": {},
   "outputs": [],
   "source": [
    "import math\n",
    "\n",
    "def percentile_75(data_list):\n",
    "    size = len(data_list)\n",
    "    res = sorted(data_list)[int(math.ceil((size * 75) / 100)) - 1]\n",
    "    return res\n",
    "#test\n",
    "my_file = open(\"task1.dat\", \"r\")   # open the file on mode read\n",
    "list_content = my_file.readlines()  #read the file to list\n",
    "list_content = [int(i) for i in list_content] #to convert the list of String to numbers\n",
    "print(\"The percentile 75 : \" ) #print the result\n",
    "res = percentile_75(list_content) # calculate the percentile_75\n",
    "print(res ) #print the result"
   ]
  },
  {
   "cell_type": "markdown",
   "metadata": {},
   "source": [
    "### Requirement FR1.7 - Print the set of summary statistics in tabular form"
   ]
  },
  {
   "cell_type": "code",
   "execution_count": null,
   "metadata": {},
   "outputs": [],
   "source": [
    "def summary(data_list):\n",
    "    print(\"count\", len(data_list) )\n",
    "    print(\"mean\", mean(data_list) )\n",
    "    print(\"std\", standard_deviation(data_list) )\n",
    "    print(\"min\", min(data_list))\n",
    "    print(\"25%\",percentile_25(data_list) )\n",
    "    print(\"50%\" ,percentile_50(data_list))\n",
    "    print(\"75%\", percentile_75(data_list) )\n",
    "    print(\"Max\", max(data_list) )\n",
    "#test\n",
    "my_file = open(\"task1.dat\", \"r\")   # open the file on mode read\n",
    "list_content = my_file.readlines()  #read the file to list\n",
    "list_content = [int(i) for i in list_content] #to convert the list of String to numbers\n",
    "print(\"The summary : \" ) #print the result\n",
    "res = summary(list_content) # calculate the mean"
   ]
  },
  {
   "cell_type": "markdown",
   "metadata": {},
   "source": [
    "### Requirement FR1.8 - Read data from a file into memory"
   ]
  },
  {
   "cell_type": "code",
   "execution_count": 1,
   "metadata": {},
   "outputs": [],
   "source": [
    "def read_file(file_name):\n",
    "    my_file = open(file_name, \"r\")   # open the file on mode read\n",
    "    list_content = my_file.readlines()  #read the file to list\n",
    "    list_content = [int(i) for i in list_content] #to convert the list of String to numbers\n",
    "    return list_content\n",
    "#test\n",
    "list_content = read_file(\"task1.dat\")\n",
    "list_content = [int(i) for i in list_content] #to convert the list of String to numbers\n",
    "print(list_content ) #print the result"
   ]
  },
  {
   "cell_type": "markdown",
   "metadata": {},
   "source": [
    "### Requirement FR1.9 - Design and build a data structure to store CSV data in memory"
   ]
  },
  {
   "cell_type": "code",
   "execution_count": null,
   "metadata": {},
   "outputs": [],
   "source": [
    "import csv\n",
    "def read_file_csv(file_name):\n",
    "    my_file = open(file_name, \"r\")   # open the file on mode read\n",
    "    csvFile = csv.reader(my_file, delimiter=',')\n",
    "  # store the contents of the CSV file in a list of list\n",
    "    return csvFile"
   ]
  },
  {
   "cell_type": "markdown",
   "metadata": {},
   "source": [
    "### Requirement FR1.10 - Create and demonstrate a function to read CSV data from a file into memory"
   ]
  },
  {
   "cell_type": "code",
   "execution_count": null,
   "metadata": {},
   "outputs": [],
   "source": [
    "import csv\n",
    "#using the function from FR1.9 to read the file task1.csv\n",
    "csv_reader = read_file_csv('task1.csv')\n",
    "print(csv_reader)"
   ]
  },
  {
   "cell_type": "markdown",
   "metadata": {},
   "source": [
    "### Requirement FR1.11 - Create and demonstrate a generic statistical summary function "
   ]
  },
  {
   "cell_type": "code",
   "execution_count": null,
   "metadata": {},
   "outputs": [],
   "source": [
    "import csv\n",
    "import math\n",
    "#using the function from FR1.9 to read the file task1.csv\n",
    "csv_reader = read_file_csv(\"task1.csv\")\n",
    "print(csv_reader)\n",
    "line_count = 0\n",
    "for row in csv_reader:\n",
    "    if line_count == 0:  # skip the header\n",
    "        line_count += 1\n",
    "    else:\n",
    "        data_list = [float(i) for i in row]\n",
    "        #using the function from FR1.7 to print the summary\n",
    "        summary(data_list)"
   ]
  },
  {
   "cell_type": "markdown",
   "metadata": {},
   "source": [
    "### Requirement FR1.12 - Create and demonstrate a function to print a custom table"
   ]
  },
  {
   "cell_type": "code",
   "execution_count": null,
   "metadata": {},
   "outputs": [],
   "source": [
    "import csv\n",
    "import math\n",
    "#create a display_in_table fuction to print in talbe \n",
    "def display_in_table(data_list):\n",
    "    print \"Name\\t\\t\\tValue\\t\\t\"\n",
    "    print \"----------------------------------------------\"\n",
    "    print \"%s:\\t\\t\\t%f\\t\" % ('count', len(data_list))\n",
    "    print \"%s:\\t\\t\\t%f\\t\" % ('Mean', mean(data_list))\n",
    "    print \"%s:\\t\\t\\t%f\\t\" % ('std', standard_deviation(data_list))\n",
    "    print \"%s:\\t\\t\\t%f\\t\" % ('Min', min(data_list))\n",
    "    print \"%s:\\t\\t\\t%f\\t\" % ('25%', percentile_25(data_list))\n",
    "    print \"%s:\\t\\t\\t%f\\t\" % ('50%', percentile_50(data_list))\n",
    "    print \"%s:\\t\\t\\t%f\\t\" % ('75%', percentile_75(data_list))\n",
    "    print \"%s:\\t\\t\\t%f\\t\" % ('max', max(data_list))\n",
    "    print \"----------------------------------------------\"\n",
    "\n",
    "#using the function from FR1.9 to read the file task1.csv\n",
    "csv_reader = read_file_csv(\"task1.csv\")\n",
    "print(csv_reader)\n",
    "line_count = 0\n",
    "for row in csv_reader:\n",
    "    if line_count == 0:  # skip the header\n",
    "        line_count += 1\n",
    "    else:\n",
    "        data_list = [float(i) for i in row]\n",
    "        display_in_table(data_list)"
   ]
  },
  {
   "cell_type": "markdown",
   "metadata": {},
   "source": [
    "# Process Development Report for Task 1\n"
   ]
  },
  {
   "cell_type": "markdown",
   "metadata": {},
   "source": []
  }
 ],
 "metadata": {
  "kernelspec": {
   "display_name": "Python 3 (ipykernel)",
   "language": "python",
   "name": "python3"
  },
  "language_info": {
   "codemirror_mode": {
    "name": "ipython",
    "version": 3
   },
   "file_extension": ".py",
   "mimetype": "text/x-python",
   "name": "python",
   "nbconvert_exporter": "python",
   "pygments_lexer": "ipython3",
   "version": "3.9.9"
  }
 },
 "nbformat": 4,
 "nbformat_minor": 4
}
